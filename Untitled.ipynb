{
 "cells": [
  {
   "cell_type": "code",
   "execution_count": 29,
   "id": "1c5c2af9",
   "metadata": {},
   "outputs": [],
   "source": [
    "import pandas as pd\n",
    "import numpy as np\n",
    "import seaborn as sns\n",
    "import matplotlib.pyplot as plt"
   ]
  },
  {
   "cell_type": "code",
   "execution_count": 30,
   "id": "d78b4eeb",
   "metadata": {},
   "outputs": [],
   "source": [
    "df=pd.read_csv('spotify_millsongdata.csv')"
   ]
  },
  {
   "cell_type": "code",
   "execution_count": 31,
   "id": "bfa0bd14",
   "metadata": {},
   "outputs": [
    {
     "data": {
      "text/html": [
       "<div>\n",
       "<style scoped>\n",
       "    .dataframe tbody tr th:only-of-type {\n",
       "        vertical-align: middle;\n",
       "    }\n",
       "\n",
       "    .dataframe tbody tr th {\n",
       "        vertical-align: top;\n",
       "    }\n",
       "\n",
       "    .dataframe thead th {\n",
       "        text-align: right;\n",
       "    }\n",
       "</style>\n",
       "<table border=\"1\" class=\"dataframe\">\n",
       "  <thead>\n",
       "    <tr style=\"text-align: right;\">\n",
       "      <th></th>\n",
       "      <th>artist</th>\n",
       "      <th>song</th>\n",
       "      <th>link</th>\n",
       "      <th>text</th>\n",
       "    </tr>\n",
       "  </thead>\n",
       "  <tbody>\n",
       "    <tr>\n",
       "      <th>0</th>\n",
       "      <td>ABBA</td>\n",
       "      <td>Ahe's My Kind Of Girl</td>\n",
       "      <td>/a/abba/ahes+my+kind+of+girl_20598417.html</td>\n",
       "      <td>Look at her face, it's a wonderful face  \\r\\nA...</td>\n",
       "    </tr>\n",
       "    <tr>\n",
       "      <th>1</th>\n",
       "      <td>ABBA</td>\n",
       "      <td>Andante, Andante</td>\n",
       "      <td>/a/abba/andante+andante_20002708.html</td>\n",
       "      <td>Take it easy with me, please  \\r\\nTouch me gen...</td>\n",
       "    </tr>\n",
       "    <tr>\n",
       "      <th>2</th>\n",
       "      <td>ABBA</td>\n",
       "      <td>As Good As New</td>\n",
       "      <td>/a/abba/as+good+as+new_20003033.html</td>\n",
       "      <td>I'll never know why I had to go  \\r\\nWhy I had...</td>\n",
       "    </tr>\n",
       "    <tr>\n",
       "      <th>3</th>\n",
       "      <td>ABBA</td>\n",
       "      <td>Bang</td>\n",
       "      <td>/a/abba/bang_20598415.html</td>\n",
       "      <td>Making somebody happy is a question of give an...</td>\n",
       "    </tr>\n",
       "    <tr>\n",
       "      <th>4</th>\n",
       "      <td>ABBA</td>\n",
       "      <td>Bang-A-Boomerang</td>\n",
       "      <td>/a/abba/bang+a+boomerang_20002668.html</td>\n",
       "      <td>Making somebody happy is a question of give an...</td>\n",
       "    </tr>\n",
       "  </tbody>\n",
       "</table>\n",
       "</div>"
      ],
      "text/plain": [
       "  artist                   song                                        link  \\\n",
       "0   ABBA  Ahe's My Kind Of Girl  /a/abba/ahes+my+kind+of+girl_20598417.html   \n",
       "1   ABBA       Andante, Andante       /a/abba/andante+andante_20002708.html   \n",
       "2   ABBA         As Good As New        /a/abba/as+good+as+new_20003033.html   \n",
       "3   ABBA                   Bang                  /a/abba/bang_20598415.html   \n",
       "4   ABBA       Bang-A-Boomerang      /a/abba/bang+a+boomerang_20002668.html   \n",
       "\n",
       "                                                text  \n",
       "0  Look at her face, it's a wonderful face  \\r\\nA...  \n",
       "1  Take it easy with me, please  \\r\\nTouch me gen...  \n",
       "2  I'll never know why I had to go  \\r\\nWhy I had...  \n",
       "3  Making somebody happy is a question of give an...  \n",
       "4  Making somebody happy is a question of give an...  "
      ]
     },
     "execution_count": 31,
     "metadata": {},
     "output_type": "execute_result"
    }
   ],
   "source": [
    "df.head(5)"
   ]
  },
  {
   "cell_type": "code",
   "execution_count": 32,
   "id": "05c3c890",
   "metadata": {},
   "outputs": [
    {
     "data": {
      "text/plain": [
       "(57650, 4)"
      ]
     },
     "execution_count": 32,
     "metadata": {},
     "output_type": "execute_result"
    }
   ],
   "source": [
    "df.shape"
   ]
  },
  {
   "cell_type": "code",
   "execution_count": 33,
   "id": "2454b868",
   "metadata": {},
   "outputs": [
    {
     "data": {
      "text/plain": [
       "artist    0\n",
       "song      0\n",
       "link      0\n",
       "text      0\n",
       "dtype: int64"
      ]
     },
     "execution_count": 33,
     "metadata": {},
     "output_type": "execute_result"
    }
   ],
   "source": [
    "df.isnull().sum()"
   ]
  },
  {
   "cell_type": "code",
   "execution_count": 34,
   "id": "18530ff5",
   "metadata": {},
   "outputs": [],
   "source": [
    "#feature selection\n",
    "df =df.sample(2000).drop('link', axis=1).reset_index(drop=True)\n"
   ]
  },
  {
   "cell_type": "code",
   "execution_count": 35,
   "id": "3c36ab77",
   "metadata": {},
   "outputs": [
    {
     "data": {
      "text/html": [
       "<div>\n",
       "<style scoped>\n",
       "    .dataframe tbody tr th:only-of-type {\n",
       "        vertical-align: middle;\n",
       "    }\n",
       "\n",
       "    .dataframe tbody tr th {\n",
       "        vertical-align: top;\n",
       "    }\n",
       "\n",
       "    .dataframe thead th {\n",
       "        text-align: right;\n",
       "    }\n",
       "</style>\n",
       "<table border=\"1\" class=\"dataframe\">\n",
       "  <thead>\n",
       "    <tr style=\"text-align: right;\">\n",
       "      <th></th>\n",
       "      <th>artist</th>\n",
       "      <th>song</th>\n",
       "      <th>text</th>\n",
       "    </tr>\n",
       "  </thead>\n",
       "  <tbody>\n",
       "    <tr>\n",
       "      <th>0</th>\n",
       "      <td>George Strait</td>\n",
       "      <td>By The Light Of A Burning Bridge</td>\n",
       "      <td>Oh, I've been stumblin' through the darkness  ...</td>\n",
       "    </tr>\n",
       "    <tr>\n",
       "      <th>1</th>\n",
       "      <td>Perry Como</td>\n",
       "      <td>Bless This House</td>\n",
       "      <td>Bless this house, O Lord we pray,  \\r\\nMake it...</td>\n",
       "    </tr>\n",
       "    <tr>\n",
       "      <th>2</th>\n",
       "      <td>Kylie Minogue</td>\n",
       "      <td>Tears</td>\n",
       "      <td>Never would say  \\r\\nI never need anyone  \\r\\n...</td>\n",
       "    </tr>\n",
       "    <tr>\n",
       "      <th>3</th>\n",
       "      <td>Ne-Yo</td>\n",
       "      <td>Single</td>\n",
       "      <td>Everybody in the club right now  \\r\\nTell the ...</td>\n",
       "    </tr>\n",
       "    <tr>\n",
       "      <th>4</th>\n",
       "      <td>Judas Priest</td>\n",
       "      <td>Deal With The Devil</td>\n",
       "      <td>Forged in the Black Country  \\r\\nUnder blood r...</td>\n",
       "    </tr>\n",
       "    <tr>\n",
       "      <th>...</th>\n",
       "      <td>...</td>\n",
       "      <td>...</td>\n",
       "      <td>...</td>\n",
       "    </tr>\n",
       "    <tr>\n",
       "      <th>1995</th>\n",
       "      <td>Barbra Streisand</td>\n",
       "      <td>Children Will Listen</td>\n",
       "      <td>How do you say to your child in the night  \\r\\...</td>\n",
       "    </tr>\n",
       "    <tr>\n",
       "      <th>1996</th>\n",
       "      <td>ZZ Top</td>\n",
       "      <td>Bedroom Thang</td>\n",
       "      <td>I know you want to be my bedroom thing,  \\r\\nB...</td>\n",
       "    </tr>\n",
       "    <tr>\n",
       "      <th>1997</th>\n",
       "      <td>Christy Moore</td>\n",
       "      <td>The Lark In The Morning</td>\n",
       "      <td>The lark in the morning she rises off her nest...</td>\n",
       "    </tr>\n",
       "    <tr>\n",
       "      <th>1998</th>\n",
       "      <td>Quiet Riot</td>\n",
       "      <td>Stomp Your Hands, Clap Your Feet</td>\n",
       "      <td>Whoa!  \\r\\nWoo-woo yeah  \\r\\n  \\r\\nTurn it up ...</td>\n",
       "    </tr>\n",
       "    <tr>\n",
       "      <th>1999</th>\n",
       "      <td>John Denver</td>\n",
       "      <td>Let It Be</td>\n",
       "      <td>When I find myself in times of trouble  \\r\\nMo...</td>\n",
       "    </tr>\n",
       "  </tbody>\n",
       "</table>\n",
       "<p>2000 rows × 3 columns</p>\n",
       "</div>"
      ],
      "text/plain": [
       "                artist                              song  \\\n",
       "0        George Strait  By The Light Of A Burning Bridge   \n",
       "1           Perry Como                  Bless This House   \n",
       "2        Kylie Minogue                             Tears   \n",
       "3                Ne-Yo                            Single   \n",
       "4         Judas Priest               Deal With The Devil   \n",
       "...                ...                               ...   \n",
       "1995  Barbra Streisand              Children Will Listen   \n",
       "1996            ZZ Top                     Bedroom Thang   \n",
       "1997     Christy Moore           The Lark In The Morning   \n",
       "1998        Quiet Riot  Stomp Your Hands, Clap Your Feet   \n",
       "1999       John Denver                         Let It Be   \n",
       "\n",
       "                                                   text  \n",
       "0     Oh, I've been stumblin' through the darkness  ...  \n",
       "1     Bless this house, O Lord we pray,  \\r\\nMake it...  \n",
       "2     Never would say  \\r\\nI never need anyone  \\r\\n...  \n",
       "3     Everybody in the club right now  \\r\\nTell the ...  \n",
       "4     Forged in the Black Country  \\r\\nUnder blood r...  \n",
       "...                                                 ...  \n",
       "1995  How do you say to your child in the night  \\r\\...  \n",
       "1996  I know you want to be my bedroom thing,  \\r\\nB...  \n",
       "1997  The lark in the morning she rises off her nest...  \n",
       "1998  Whoa!  \\r\\nWoo-woo yeah  \\r\\n  \\r\\nTurn it up ...  \n",
       "1999  When I find myself in times of trouble  \\r\\nMo...  \n",
       "\n",
       "[2000 rows x 3 columns]"
      ]
     },
     "execution_count": 35,
     "metadata": {},
     "output_type": "execute_result"
    }
   ],
   "source": [
    "df"
   ]
  },
  {
   "cell_type": "code",
   "execution_count": 36,
   "id": "e8fbb019",
   "metadata": {},
   "outputs": [
    {
     "data": {
      "text/plain": [
       "\"Oh, I've been stumblin' through the darkness  \\r\\nTryin' to feel the ground beneath my feet  \\r\\nAfraid of movin' much in any direction  \\r\\nStuck where the past and the future meet  \\r\\n  \\r\\nBut I fin'lly got my first good look  \\r\\nA little fire was all it too  \\r\\nAn' as the flames grew brighter  \\r\\nI saw everything that I'd missed  \\r\\nOnce you get your courage up  \\r\\nYou light a match an' your eyes adjust  \\r\\nIt's amazing what a man can see  \\r\\nBy the light of a burnin' bridge  \\r\\n  \\r\\nAn' there were things I saw that I'm not proud of  \\r\\nThings that I'd do diff'rent now from then  \\r\\nBut when I really make myself get honest  \\r\\nIt's over and I can't go back again  \\r\\n  \\r\\n'Cause I fin'lly got my first good look  \\r\\nA little fire was all it took  \\r\\nAn' as the flames grew brighter  \\r\\nI saw everything that I'd missed  \\r\\nOnce you get your courage up  \\r\\nYou light a match an' your eyes adjust  \\r\\nIt's amazing what a man can see  \\r\\nBy the light of a burnin' bridge  \\r\\n  \\r\\nIt sure is hard to let go and to leave the past behind  \\r\\nBut there ain't no other way that you can find some peace of mind  \\r\\n  \\r\\nWhen I fin'lly got my first good look  \\r\\nA little fire was all it took  \\r\\nAn' as the flames grew brighter  \\r\\nI saw everything that I'd missed  \\r\\nOnce you get your courage up  \\r\\nYou light a match an' your eyes adjust  \\r\\nIt's amazing what a man can see  \\r\\nBy the light of a burnin' bridge  \\r\\nIt's amazing what a man can see  \\r\\nBy the light of a burnin' bridge\\r\\n\\r\\n\""
      ]
     },
     "execution_count": 36,
     "metadata": {},
     "output_type": "execute_result"
    }
   ],
   "source": [
    "df['text'][0]"
   ]
  },
  {
   "cell_type": "code",
   "execution_count": 37,
   "id": "b0cd1ae4",
   "metadata": {},
   "outputs": [],
   "source": [
    "import spacy"
   ]
  },
  {
   "cell_type": "code",
   "execution_count": 38,
   "id": "6faa2bfb",
   "metadata": {},
   "outputs": [],
   "source": [
    "nlp = spacy.load(\"en_core_web_sm\")\n",
    "\n",
    "def preprocess(text):\n",
    "    doc = nlp(text)\n",
    "    filtered_tokens = []\n",
    "    for token in doc:\n",
    "        if not token.is_stop and not token.is_punct:\n",
    "            filtered_tokens.append(token.lemma_)\n",
    "    return \" \".join(filtered_tokens)"
   ]
  },
  {
   "cell_type": "code",
   "execution_count": 39,
   "id": "efcbd443",
   "metadata": {},
   "outputs": [],
   "source": [
    "df=df.replace(r'\\n',' ',regex=True)"
   ]
  },
  {
   "cell_type": "code",
   "execution_count": 40,
   "id": "e0eb1922",
   "metadata": {},
   "outputs": [
    {
     "data": {
      "text/plain": [
       "\"Oh, I've been stumblin' through the darkness  \\r Tryin' to feel the ground beneath my feet  \\r Afraid of movin' much in any direction  \\r Stuck where the past and the future meet  \\r   \\r But I fin'lly got my first good look  \\r A little fire was all it too  \\r An' as the flames grew brighter  \\r I saw everything that I'd missed  \\r Once you get your courage up  \\r You light a match an' your eyes adjust  \\r It's amazing what a man can see  \\r By the light of a burnin' bridge  \\r   \\r An' there were things I saw that I'm not proud of  \\r Things that I'd do diff'rent now from then  \\r But when I really make myself get honest  \\r It's over and I can't go back again  \\r   \\r 'Cause I fin'lly got my first good look  \\r A little fire was all it took  \\r An' as the flames grew brighter  \\r I saw everything that I'd missed  \\r Once you get your courage up  \\r You light a match an' your eyes adjust  \\r It's amazing what a man can see  \\r By the light of a burnin' bridge  \\r   \\r It sure is hard to let go and to leave the past behind  \\r But there ain't no other way that you can find some peace of mind  \\r   \\r When I fin'lly got my first good look  \\r A little fire was all it took  \\r An' as the flames grew brighter  \\r I saw everything that I'd missed  \\r Once you get your courage up  \\r You light a match an' your eyes adjust  \\r It's amazing what a man can see  \\r By the light of a burnin' bridge  \\r It's amazing what a man can see  \\r By the light of a burnin' bridge\\r \\r \""
      ]
     },
     "execution_count": 40,
     "metadata": {},
     "output_type": "execute_result"
    }
   ],
   "source": [
    "df['text'][0]"
   ]
  },
  {
   "cell_type": "code",
   "execution_count": 41,
   "id": "9f4593ed",
   "metadata": {},
   "outputs": [],
   "source": [
    "df['text_Process']=df['text'].apply(preprocess)"
   ]
  },
  {
   "cell_type": "code",
   "execution_count": 42,
   "id": "6afbc351",
   "metadata": {},
   "outputs": [],
   "source": [
    "from sklearn.feature_extraction.text import TfidfVectorizer\n",
    "from sklearn.metrics.pairwise import cosine_similarity"
   ]
  },
  {
   "cell_type": "code",
   "execution_count": 43,
   "id": "c74181da",
   "metadata": {},
   "outputs": [],
   "source": [
    "tfid=TfidfVectorizer()"
   ]
  },
  {
   "cell_type": "code",
   "execution_count": 44,
   "id": "1cc55888",
   "metadata": {},
   "outputs": [],
   "source": [
    "matrix=tfid.fit_transform(df['text_Process'])"
   ]
  },
  {
   "cell_type": "code",
   "execution_count": 45,
   "id": "e8f4f03f",
   "metadata": {},
   "outputs": [],
   "source": [
    "similar=cosine_similarity(matrix)"
   ]
  },
  {
   "cell_type": "code",
   "execution_count": 46,
   "id": "9a495d1e",
   "metadata": {},
   "outputs": [
    {
     "data": {
      "text/plain": [
       "array([0.03077529, 1.        , 0.02170652, ..., 0.00131033, 0.00385055,\n",
       "       0.08458049])"
      ]
     },
     "execution_count": 46,
     "metadata": {},
     "output_type": "execute_result"
    }
   ],
   "source": [
    "similar[1]"
   ]
  },
  {
   "cell_type": "code",
   "execution_count": 47,
   "id": "4f0ddb3a",
   "metadata": {},
   "outputs": [],
   "source": [
    "def recommendation(song_df):\n",
    "    idx = df[df['song'] == song_df].index[0]\n",
    "    distances = sorted(list(enumerate(similar[idx])),reverse=False,key=lambda x:x[1])\n",
    "    \n",
    "    songs = []\n",
    "    for song_id in distances[1:11]:\n",
    "        songs.append(df.iloc[song_id[0]].song)\n",
    "        \n",
    "    return songs"
   ]
  },
  {
   "cell_type": "code",
   "execution_count": 48,
   "id": "5f7e227d",
   "metadata": {},
   "outputs": [
    {
     "data": {
      "text/plain": [
       "['Huwag Mong Iwan Ang Puso',\n",
       " 'Blue Suede Shoes',\n",
       " 'Abaelard',\n",
       " 'Maging Sino Ka Man',\n",
       " \"Ab Vox D'Angel\",\n",
       " 'Run, Pig, Run',\n",
       " 'We Never Change',\n",
       " 'Forever And A Day',\n",
       " 'Anything You Can Do',\n",
       " 'Starfuckers']"
      ]
     },
     "execution_count": 48,
     "metadata": {},
     "output_type": "execute_result"
    }
   ],
   "source": [
    "recommendation('Deal With The Devil')"
   ]
  },
  {
   "cell_type": "code",
   "execution_count": 49,
   "id": "b2688bd7",
   "metadata": {},
   "outputs": [],
   "source": [
    "import pickle"
   ]
  },
  {
   "cell_type": "code",
   "execution_count": 50,
   "id": "d9678bbd",
   "metadata": {},
   "outputs": [],
   "source": [
    "pickle.dump(similar, open(\"similarity.pkl\",\"wb\"))"
   ]
  },
  {
   "cell_type": "code",
   "execution_count": 51,
   "id": "4967ce72",
   "metadata": {},
   "outputs": [],
   "source": [
    "pickle.dump(df, open(\"df.pkl\",\"wb\"))"
   ]
  },
  {
   "cell_type": "code",
   "execution_count": null,
   "id": "20c3c56c",
   "metadata": {},
   "outputs": [],
   "source": []
  }
 ],
 "metadata": {
  "kernelspec": {
   "display_name": "Python 3 (ipykernel)",
   "language": "python",
   "name": "python3"
  },
  "language_info": {
   "codemirror_mode": {
    "name": "ipython",
    "version": 3
   },
   "file_extension": ".py",
   "mimetype": "text/x-python",
   "name": "python",
   "nbconvert_exporter": "python",
   "pygments_lexer": "ipython3",
   "version": "3.11.0"
  }
 },
 "nbformat": 4,
 "nbformat_minor": 5
}
